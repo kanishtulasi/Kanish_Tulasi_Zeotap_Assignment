{
  "nbformat": 4,
  "nbformat_minor": 0,
  "metadata": {
    "colab": {
      "provenance": []
    },
    "kernelspec": {
      "name": "python3",
      "display_name": "Python 3"
    },
    "language_info": {
      "name": "python"
    }
  },
  "cells": [
    {
      "cell_type": "code",
      "source": [
        "# import libraries\n",
        "import pandas as pd\n",
        "from sklearn.preprocessing import StandardScaler\n",
        "from sklearn.metrics.pairwise import cosine_similarity"
      ],
      "metadata": {
        "id": "XEEE9VVr2S1v"
      },
      "execution_count": 24,
      "outputs": []
    },
    {
      "cell_type": "code",
      "source": [
        "# Load the datasets\n",
        "customers = pd.read_csv('Customers.csv')\n",
        "products = pd.read_csv('Products.csv')\n",
        "transactions = pd.read_csv('Transactions.csv')\n"
      ],
      "metadata": {
        "id": "LEdgk-lM2WG7"
      },
      "execution_count": 25,
      "outputs": []
    },
    {
      "cell_type": "code",
      "source": [
        "transactions = transactions.rename(columns={'Price': 'TransactionPrice'})\n",
        "\n",
        "# Merge datasets to create a customer-product interaction matrix\n",
        "customer_product_matrix = pd.merge(transactions, customers, on='CustomerID')\n",
        "customer_product_matrix = pd.merge(customer_product_matrix, products, on='ProductID')"
      ],
      "metadata": {
        "id": "SEqqoITQ2Z8z"
      },
      "execution_count": 26,
      "outputs": []
    },
    {
      "cell_type": "code",
      "source": [
        "# Feature engineering\n",
        "customer_product_matrix['TotalPrice'] = customer_product_matrix['Quantity'] * customer_product_matrix['Price']\n",
        "customer_features = customer_product_matrix.groupby('CustomerID').agg(\n",
        "    TotalSpent=('TotalPrice', 'sum'),\n",
        "    AvgTransactionValue=('TotalPrice', 'mean'),\n",
        "    TotalTransactions=('TransactionID', 'count'),\n",
        "    UniqueProducts=('ProductID', 'nunique')\n",
        ")\n"
      ],
      "metadata": {
        "id": "1FDL-PGW2dop"
      },
      "execution_count": 27,
      "outputs": []
    },
    {
      "cell_type": "code",
      "source": [
        "# Standardize features\n",
        "scaler = StandardScaler()\n",
        "scaled_features = scaler.fit_transform(customer_features)\n"
      ],
      "metadata": {
        "id": "BqU_C-6U2gpX"
      },
      "execution_count": 28,
      "outputs": []
    },
    {
      "cell_type": "code",
      "source": [
        "# Calculate cosine similarity\n",
        "similarity_matrix = cosine_similarity(scaled_features)\n"
      ],
      "metadata": {
        "id": "fQqGGm7v2jU5"
      },
      "execution_count": 29,
      "outputs": []
    },
    {
      "cell_type": "code",
      "source": [
        "# Build the Lookalike Model\n",
        "def get_lookalikes(customer_id, top_n=3):\n",
        "    customer_index = customer_features.index.get_loc(customer_id)\n",
        "    similarities = similarity_matrix[customer_index]\n",
        "    sorted_indices = similarities.argsort()[::-1]\n",
        "    top_indices = sorted_indices[1:top_n + 1]\n",
        "    lookalikes = customer_features.iloc[top_indices].index.tolist()\n",
        "    scores = similarities[top_indices].tolist()\n",
        "    return lookalikes, scores\n"
      ],
      "metadata": {
        "id": "WTo50i262l1p"
      },
      "execution_count": 30,
      "outputs": []
    },
    {
      "cell_type": "code",
      "source": [
        "# Generate lookalikes for the first 20 customers\n",
        "lookalike_results = {}\n",
        "for customer_id in customers['CustomerID'][:20]:\n",
        "    lookalikes, scores = get_lookalikes(customer_id)\n",
        "    lookalike_results[customer_id] = list(zip(lookalikes, scores))\n"
      ],
      "metadata": {
        "id": "YxhRTj0L2pg3"
      },
      "execution_count": 31,
      "outputs": []
    },
    {
      "cell_type": "code",
      "execution_count": 32,
      "metadata": {
        "id": "6k0JDzADxnMT"
      },
      "outputs": [],
      "source": [
        "# Create Lookalike.csv\n",
        "lookalike_df = pd.DataFrame.from_dict(lookalike_results, orient='index')\n",
        "lookalike_df.to_csv('Lookalike.csv')"
      ]
    },
    {
      "cell_type": "code",
      "source": [],
      "metadata": {
        "id": "7Ugi9ZmPx-1A"
      },
      "execution_count": 32,
      "outputs": []
    }
  ]
}